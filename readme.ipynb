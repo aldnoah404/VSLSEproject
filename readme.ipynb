{
 "cells": [
  {
   "cell_type": "markdown",
   "metadata": {},
   "source": [
    "#### 原始数据集：ProtoDataset"
   ]
  },
  {
   "cell_type": "markdown",
   "metadata": {},
   "source": [
    "##### 1.执行ToSequence.py 获得序列化数据集 SequenceDataset"
   ]
  },
  {
   "cell_type": "code",
   "execution_count": null,
   "metadata": {},
   "outputs": [],
   "source": [
    "from ToSequence import ToSequenceDataset\n",
    "ToSequenceDataset('./ProtoDataset/scan/B')\n",
    "# ToSequenceDataset('./ProtoDataset/scan/B_C')\n",
    "# ToSequenceDataset('./ProtoDataset/scan/B_S')\n",
    "ToSequenceDataset('./ProtoDataset/scan/L')\n",
    "# ToSequenceDataset('./ProtoDataset/scan/L_C')\n",
    "# ToSequenceDataset('./ProtoDataset/scan/L_S')"
   ]
  },
  {
   "cell_type": "markdown",
   "metadata": {},
   "source": [
    "##### 2.执行Crop.py 对SequenceDataset 进行裁剪获得 CroppedDataset ,尺寸：【300，300】"
   ]
  },
  {
   "cell_type": "code",
   "execution_count": null,
   "metadata": {},
   "outputs": [],
   "source": [
    "from Crop import crop\n",
    "# 对B类图片进行裁剪 \n",
    "crop(proto_imgs_path=r'./SequenceDataset/B/imgs',\n",
    "        proto_labels_path=r'./SequenceDataset/B/labels',\n",
    "        proto_targets_path=r'./SequenceDataset/B/targets',\n",
    "        name='B')\n",
    "# crop(proto_imgs_path=r'./SequenceDataset/B_C/imgs',\n",
    "#         proto_labels_path=r'./SequenceDataset/B_C/labels',\n",
    "#         proto_targets_path=r'./SequenceDataset/B_C/targets',\n",
    "#         name='B_C')\n",
    "# crop(proto_imgs_path=r'./SequenceDataset/B_S/imgs',\n",
    "#         proto_labels_path=r'./SequenceDataset/B_S/labels',\n",
    "#         proto_targets_path=r'./SequenceDataset/B_S/targets',\n",
    "#         name='B_S')\n",
    "# 对L类图片进行裁剪\n",
    "crop(proto_imgs_path=r'./SequenceDataset/L/imgs',\n",
    "        proto_labels_path=r'./SequenceDataset/L/labels',\n",
    "        proto_targets_path=r'./SequenceDataset/L/targets',\n",
    "        name='L')\n",
    "# crop(proto_imgs_path=r'./SequenceDataset/L_C/imgs',\n",
    "#         proto_labels_path=r'./SequenceDataset/L_C/labels',\n",
    "#         proto_targets_path=r'./SequenceDataset/L_C/targets',\n",
    "#         name='L_C')\n",
    "# crop(proto_imgs_path=r'./SequenceDataset/L_S/imgs',\n",
    "#         proto_labels_path=r'./SequenceDataset/L_S/labels',\n",
    "#         proto_targets_path=r'./SequenceDataset/L_S/targets',\n",
    "#         name='L_S')"
   ]
  },
  {
   "cell_type": "code",
   "execution_count": null,
   "metadata": {},
   "outputs": [],
   "source": [
    "# 检验图片大小\n",
    "from PIL import Image\n",
    "img_path = r'CroppedDataset\\B\\imgs\\1\\1.jpg'\n",
    "img = Image.open(img_path)\n",
    "print(img.size)"
   ]
  },
  {
   "cell_type": "markdown",
   "metadata": {},
   "source": [
    "##### 3.执行 DatasetPrepare.py 对targets进行处理得到 preDataset"
   ]
  },
  {
   "cell_type": "code",
   "execution_count": null,
   "metadata": {},
   "outputs": [],
   "source": [
    "from DatasetPrepare import dataset_prepare\n",
    "# 阈值200\n",
    "dataset_prepare(proto_input_path=r'CroppedDataset/B/imgs',\n",
    "                proto_target_path=r'CroppedDataset/B/targets',\n",
    "                name=\"B\", threshold=200)\n",
    "dataset_prepare(proto_input_path=r'CroppedDataset/L/imgs',\n",
    "                proto_target_path=r'CroppedDataset/L/targets',\n",
    "                name=\"L\", threshold=200)\n",
    "\n",
    "# # 阈值100\n",
    "# dataset_prepare(proto_input_path=r'CroppedDataset/B_C/imgs',\n",
    "#                 proto_target_path=r'CroppedDataset/B_C/targets',\n",
    "#                 name=\"B_C\", threshold=100)\n",
    "# dataset_prepare(proto_input_path=r'CroppedDataset/B_S/imgs',\n",
    "#                 proto_target_path=r'CroppedDataset/B_S/targets',\n",
    "#                 name=\"B_S\", threshold=100)\n",
    "# dataset_prepare(proto_input_path=r'CroppedDataset/L_C/imgs',\n",
    "#                 proto_target_path=r'CroppedDataset/L_C/targets',\n",
    "#                 name=\"L_C\", threshold=100)\n",
    "# dataset_prepare(proto_input_path=r'CroppedDataset/L_S/imgs',\n",
    "#                 proto_target_path=r'CroppedDataset/L_S/targets',\n",
    "#                 name=\"L_S\", threshold=100)\n",
    "print(\"preDataset准备完成\")"
   ]
  },
  {
   "cell_type": "markdown",
   "metadata": {},
   "source": [
    "##### 4.数据集分类，分为训练集与测试集，比例 7：3 。得到 Datasets"
   ]
  },
  {
   "cell_type": "code",
   "execution_count": null,
   "metadata": {},
   "outputs": [],
   "source": [
    "from dataloader import split_dataset\n",
    "split_dataset(datasets_path='./preDataset')"
   ]
  },
  {
   "cell_type": "code",
   "execution_count": null,
   "metadata": {},
   "outputs": [],
   "source": [
    "from PIL import Image\n",
    "img_path = r'./Datasets/test/B/inputs/6/6.jpg'\n",
    "img = Image.open(img_path)\n",
    "print(img.size)"
   ]
  },
  {
   "cell_type": "markdown",
   "metadata": {},
   "source": [
    "##### 5.调用dataloader即可获取数据加载器"
   ]
  },
  {
   "cell_type": "code",
   "execution_count": null,
   "metadata": {},
   "outputs": [],
   "source": [
    "from dataloader import get_dataloader\n",
    "from torchvision import transforms  \n",
    "train_dataloader = get_dataloader(mode='train')\n",
    "test_dataloader = get_dataloader(mode='test')\n"
   ]
  },
  {
   "cell_type": "code",
   "execution_count": null,
   "metadata": {},
   "outputs": [],
   "source": [
    "for idx,(img,target) in enumerate(train_dataloader):\n",
    "    # print(img.shape)\n",
    "    # print(target.shape)\n",
    "    img = img[1, 1, :, :]\n",
    "    target = target[1, 1, :, :]\n",
    "    # print(img.shape)\n",
    "    to_pil_image = transforms.ToPILImage()  \n",
    "    img_pil = to_pil_image(img)  \n",
    "    target_pil = to_pil_image(target)\n",
    "    img_pil.show()\n",
    "    target_pil.show()\n",
    "    break\n",
    "    "
   ]
  },
  {
   "cell_type": "code",
   "execution_count": null,
   "metadata": {},
   "outputs": [],
   "source": [
    "\n",
    "for idx,(imgs,targets) in enumerate(test_dataloader):\n",
    "    # print(img.shape)\n",
    "    # print(target.shape)\n",
    "    for i in range(10):\n",
    "        img = imgs[1, i, :, :]\n",
    "        target = targets[1, i, :, :]\n",
    "        # print(img.shape)\n",
    "        to_pil_image = transforms.ToPILImage()  \n",
    "        img_pil = to_pil_image(img)  \n",
    "        target_pil = to_pil_image(target)\n",
    "        img_pil.show()\n",
    "        target_pil.show()\n",
    "    break"
   ]
  },
  {
   "cell_type": "markdown",
   "metadata": {},
   "source": [
    "##### 6.可以开始搭建模型了"
   ]
  },
  {
   "cell_type": "markdown",
   "metadata": {},
   "source": [
    "模型的信息进一步完善<br>\n",
    "参数如何初始化： SSLSE————>VLLSE<br>\n",
    "为了后续数据可视化，应再创建一个文件记录每轮次的test结果<br>\n",
    "完善LSE项目的代码<br>\n",
    "实验并记录优化结果<br>"
   ]
  }
 ],
 "metadata": {
  "kernelspec": {
   "display_name": "cjpt",
   "language": "python",
   "name": "python3"
  },
  "language_info": {
   "codemirror_mode": {
    "name": "ipython",
    "version": 3
   },
   "file_extension": ".py",
   "mimetype": "text/x-python",
   "name": "python",
   "nbconvert_exporter": "python",
   "pygments_lexer": "ipython3",
   "version": "3.9.19"
  }
 },
 "nbformat": 4,
 "nbformat_minor": 2
}
